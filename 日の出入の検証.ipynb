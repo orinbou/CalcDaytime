{
  "nbformat": 4,
  "nbformat_minor": 0,
  "metadata": {
    "colab": {
      "provenance": [],
      "authorship_tag": "ABX9TyOJisxXkWHhXSzkzo2ERDBo",
      "include_colab_link": true
    },
    "kernelspec": {
      "name": "python3",
      "display_name": "Python 3"
    },
    "language_info": {
      "name": "python"
    },
    "widgets": {
      "application/vnd.jupyter.widget-state+json": {
        "811ab259238b4a6792a5477bda8216a9": {
          "model_module": "@jupyter-widgets/controls",
          "model_name": "DropdownModel",
          "model_module_version": "2.0.0",
          "state": {
            "_dom_classes": [],
            "_model_module": "@jupyter-widgets/controls",
            "_model_module_version": "2.0.0",
            "_model_name": "DropdownModel",
            "_options_labels": [
              "2023",
              "2024",
              "2025"
            ],
            "_view_count": null,
            "_view_module": "@jupyter-widgets/controls",
            "_view_module_version": "2.0.0",
            "_view_name": "DropdownView",
            "description": "西暦",
            "description_allow_html": false,
            "disabled": false,
            "index": 1,
            "layout": "IPY_MODEL_9ff596da1a734f848445c113d9b05302",
            "style": "IPY_MODEL_892bb58545e6405ba0cfb96128d4bb19",
            "tabbable": null,
            "tooltip": null
          }
        },
        "9ff596da1a734f848445c113d9b05302": {
          "model_module": "@jupyter-widgets/base",
          "model_name": "LayoutModel",
          "model_module_version": "2.0.0",
          "state": {
            "_model_module": "@jupyter-widgets/base",
            "_model_module_version": "2.0.0",
            "_model_name": "LayoutModel",
            "_view_count": null,
            "_view_module": "@jupyter-widgets/base",
            "_view_module_version": "2.0.0",
            "_view_name": "LayoutView",
            "align_content": null,
            "align_items": null,
            "align_self": null,
            "border_bottom": null,
            "border_left": null,
            "border_right": null,
            "border_top": null,
            "bottom": null,
            "display": null,
            "flex": null,
            "flex_flow": null,
            "grid_area": null,
            "grid_auto_columns": null,
            "grid_auto_flow": null,
            "grid_auto_rows": null,
            "grid_column": null,
            "grid_gap": null,
            "grid_row": null,
            "grid_template_areas": null,
            "grid_template_columns": null,
            "grid_template_rows": null,
            "height": null,
            "justify_content": null,
            "justify_items": null,
            "left": null,
            "margin": null,
            "max_height": null,
            "max_width": null,
            "min_height": null,
            "min_width": null,
            "object_fit": null,
            "object_position": null,
            "order": null,
            "overflow": null,
            "padding": null,
            "right": null,
            "top": null,
            "visibility": null,
            "width": null
          }
        },
        "892bb58545e6405ba0cfb96128d4bb19": {
          "model_module": "@jupyter-widgets/controls",
          "model_name": "DescriptionStyleModel",
          "model_module_version": "2.0.0",
          "state": {
            "_model_module": "@jupyter-widgets/controls",
            "_model_module_version": "2.0.0",
            "_model_name": "DescriptionStyleModel",
            "_view_count": null,
            "_view_module": "@jupyter-widgets/base",
            "_view_module_version": "2.0.0",
            "_view_name": "StyleView",
            "description_width": "initial"
          }
        },
        "3c25afce45084e5197ccfaa0186bdb56": {
          "model_module": "@jupyter-widgets/controls",
          "model_name": "BoundedFloatTextModel",
          "model_module_version": "2.0.0",
          "state": {
            "_dom_classes": [],
            "_model_module": "@jupyter-widgets/controls",
            "_model_module_version": "2.0.0",
            "_model_name": "BoundedFloatTextModel",
            "_view_count": null,
            "_view_module": "@jupyter-widgets/controls",
            "_view_module_version": "2.0.0",
            "_view_name": "FloatTextView",
            "continuous_update": false,
            "description": "緯度",
            "description_allow_html": false,
            "disabled": false,
            "layout": "IPY_MODEL_fc5f58650019477a8fc9eed86d03544e",
            "max": 180,
            "min": 0,
            "step": 0.1,
            "style": "IPY_MODEL_9944bedb55fd46779f3c5fca71631a15",
            "tabbable": null,
            "tooltip": null,
            "value": 35.45
          }
        },
        "fc5f58650019477a8fc9eed86d03544e": {
          "model_module": "@jupyter-widgets/base",
          "model_name": "LayoutModel",
          "model_module_version": "2.0.0",
          "state": {
            "_model_module": "@jupyter-widgets/base",
            "_model_module_version": "2.0.0",
            "_model_name": "LayoutModel",
            "_view_count": null,
            "_view_module": "@jupyter-widgets/base",
            "_view_module_version": "2.0.0",
            "_view_name": "LayoutView",
            "align_content": null,
            "align_items": null,
            "align_self": null,
            "border_bottom": null,
            "border_left": null,
            "border_right": null,
            "border_top": null,
            "bottom": null,
            "display": null,
            "flex": null,
            "flex_flow": null,
            "grid_area": null,
            "grid_auto_columns": null,
            "grid_auto_flow": null,
            "grid_auto_rows": null,
            "grid_column": null,
            "grid_gap": null,
            "grid_row": null,
            "grid_template_areas": null,
            "grid_template_columns": null,
            "grid_template_rows": null,
            "height": null,
            "justify_content": null,
            "justify_items": null,
            "left": null,
            "margin": null,
            "max_height": null,
            "max_width": null,
            "min_height": null,
            "min_width": null,
            "object_fit": null,
            "object_position": null,
            "order": null,
            "overflow": null,
            "padding": null,
            "right": null,
            "top": null,
            "visibility": null,
            "width": null
          }
        },
        "9944bedb55fd46779f3c5fca71631a15": {
          "model_module": "@jupyter-widgets/controls",
          "model_name": "DescriptionStyleModel",
          "model_module_version": "2.0.0",
          "state": {
            "_model_module": "@jupyter-widgets/controls",
            "_model_module_version": "2.0.0",
            "_model_name": "DescriptionStyleModel",
            "_view_count": null,
            "_view_module": "@jupyter-widgets/base",
            "_view_module_version": "2.0.0",
            "_view_name": "StyleView",
            "description_width": "initial"
          }
        },
        "8811c363799e486995049e220e7400d1": {
          "model_module": "@jupyter-widgets/controls",
          "model_name": "BoundedFloatTextModel",
          "model_module_version": "2.0.0",
          "state": {
            "_dom_classes": [],
            "_model_module": "@jupyter-widgets/controls",
            "_model_module_version": "2.0.0",
            "_model_name": "BoundedFloatTextModel",
            "_view_count": null,
            "_view_module": "@jupyter-widgets/controls",
            "_view_module_version": "2.0.0",
            "_view_name": "FloatTextView",
            "continuous_update": false,
            "description": "経度",
            "description_allow_html": false,
            "disabled": false,
            "layout": "IPY_MODEL_f0cde6670a744d25be3d2080c167a717",
            "max": 180,
            "min": 0,
            "step": 0.1,
            "style": "IPY_MODEL_27da668d2ae54511b0d5804d55be19df",
            "tabbable": null,
            "tooltip": null,
            "value": 139.65
          }
        },
        "f0cde6670a744d25be3d2080c167a717": {
          "model_module": "@jupyter-widgets/base",
          "model_name": "LayoutModel",
          "model_module_version": "2.0.0",
          "state": {
            "_model_module": "@jupyter-widgets/base",
            "_model_module_version": "2.0.0",
            "_model_name": "LayoutModel",
            "_view_count": null,
            "_view_module": "@jupyter-widgets/base",
            "_view_module_version": "2.0.0",
            "_view_name": "LayoutView",
            "align_content": null,
            "align_items": null,
            "align_self": null,
            "border_bottom": null,
            "border_left": null,
            "border_right": null,
            "border_top": null,
            "bottom": null,
            "display": null,
            "flex": null,
            "flex_flow": null,
            "grid_area": null,
            "grid_auto_columns": null,
            "grid_auto_flow": null,
            "grid_auto_rows": null,
            "grid_column": null,
            "grid_gap": null,
            "grid_row": null,
            "grid_template_areas": null,
            "grid_template_columns": null,
            "grid_template_rows": null,
            "height": null,
            "justify_content": null,
            "justify_items": null,
            "left": null,
            "margin": null,
            "max_height": null,
            "max_width": null,
            "min_height": null,
            "min_width": null,
            "object_fit": null,
            "object_position": null,
            "order": null,
            "overflow": null,
            "padding": null,
            "right": null,
            "top": null,
            "visibility": null,
            "width": null
          }
        },
        "27da668d2ae54511b0d5804d55be19df": {
          "model_module": "@jupyter-widgets/controls",
          "model_name": "DescriptionStyleModel",
          "model_module_version": "2.0.0",
          "state": {
            "_model_module": "@jupyter-widgets/controls",
            "_model_module_version": "2.0.0",
            "_model_name": "DescriptionStyleModel",
            "_view_count": null,
            "_view_module": "@jupyter-widgets/base",
            "_view_module_version": "2.0.0",
            "_view_name": "StyleView",
            "description_width": "initial"
          }
        }
      }
    }
  },
  "cells": [
    {
      "cell_type": "markdown",
      "metadata": {
        "id": "view-in-github",
        "colab_type": "text"
      },
      "source": [
        "<a href=\"https://colab.research.google.com/github/orinbou/CalcDaytime/blob/main/%E6%97%A5%E3%81%AE%E5%87%BA%E5%85%A5%E3%81%AE%E6%A4%9C%E8%A8%BC.ipynb\" target=\"_parent\"><img src=\"https://colab.research.google.com/assets/colab-badge.svg\" alt=\"Open In Colab\"/></a>"
      ]
    },
    {
      "cell_type": "markdown",
      "source": [
        "# 日の出・日の入の計算"
      ],
      "metadata": {
        "id": "PUeMI6qQFDJh"
      }
    },
    {
      "cell_type": "markdown",
      "source": [
        "国立天文台の情報\n",
        "\n",
        "https://eco.mtk.nao.ac.jp/koyomi/dni/2024/s1504.html\n",
        "\n",
        "によると本日（4/6）の日の出、日の入は次のとおり\n",
        "\n",
        "* 日の出 05:21\n",
        "* 日の入 18:07\n",
        "\n",
        "となっており【日の出】【日の入】ともに時間に1分強のズレが発生している。"
      ],
      "metadata": {
        "id": "JC8TkOSPU2M5"
      }
    },
    {
      "cell_type": "code",
      "source": [
        "# https://qiita.com/Radley/items/9f05251c6fcbd3e4f547\n",
        "import shutil\n",
        "\n",
        "#directory = '/content/drive/MyDrive/Colab Notebooks/my-modules'\n",
        "\n",
        "try:\n",
        "    shutil.rmtree(directory)\n",
        "except FileNotFoundError:\n",
        "    pass"
      ],
      "metadata": {
        "id": "5Wib6wnoItuL"
      },
      "execution_count": null,
      "outputs": []
    },
    {
      "cell_type": "markdown",
      "source": [
        "## Skyfield\n",
        "\n",
        "https://www.sci-museum.kita.osaka.jp/~egoshi/astronomy/python/python_skyfield.html\n",
        "\n",
        "https://rhodesmill.org/skyfield/"
      ],
      "metadata": {
        "id": "tV-nwLNvD1bC"
      }
    },
    {
      "cell_type": "code",
      "source": [
        "#!pip install skyfield\n",
        "!pip install --target \"/content/drive/MyDrive/Colab Notebooks/my-modules\" skyfield"
      ],
      "metadata": {
        "colab": {
          "base_uri": "https://localhost:8080/",
          "height": 326
        },
        "id": "5MWd2IdIEuJU",
        "outputId": "34bdefd6-ee33-4ed4-b205-b5c349b6e12a"
      },
      "execution_count": null,
      "outputs": [
        {
          "output_type": "stream",
          "name": "stdout",
          "text": [
            "Collecting skyfield\n",
            "  Using cached skyfield-1.48-py3-none-any.whl (453 kB)\n",
            "Collecting certifi>=2017.4.17 (from skyfield)\n",
            "  Using cached certifi-2024.2.2-py3-none-any.whl (163 kB)\n",
            "Collecting jplephem>=2.13 (from skyfield)\n",
            "  Using cached jplephem-2.21-py3-none-any.whl (47 kB)\n",
            "Collecting numpy (from skyfield)\n",
            "  Using cached numpy-1.26.4-cp310-cp310-manylinux_2_17_x86_64.manylinux2014_x86_64.whl (18.2 MB)\n",
            "Collecting sgp4>=2.2 (from skyfield)\n",
            "  Using cached sgp4-2.23-cp310-cp310-manylinux_2_5_x86_64.manylinux1_x86_64.manylinux_2_17_x86_64.manylinux2014_x86_64.whl (232 kB)\n",
            "Installing collected packages: sgp4, numpy, certifi, jplephem, skyfield\n",
            "Successfully installed certifi-2024.2.2 jplephem-2.21 numpy-1.26.4 sgp4-2.23 skyfield-1.48\n"
          ]
        },
        {
          "output_type": "display_data",
          "data": {
            "application/vnd.colab-display-data+json": {
              "pip_warning": {
                "packages": [
                  "certifi"
                ]
              },
              "id": "a4e5663bc1504127b934179d6834a040"
            }
          },
          "metadata": {}
        }
      ]
    },
    {
      "cell_type": "code",
      "source": [
        "import sys\n",
        "sys.path.append('/content/drive/MyDrive/Colab Notebooks/my-modules')\n",
        "\n",
        "from skyfield.api import load, Topos\n",
        "from skyfield.almanac import find_discrete, sunrise_sunset\n",
        "from datetime import timedelta\n",
        "from pytz import timezone\n",
        "\n",
        "ts = load.timescale()\n",
        "eph = load('de421.bsp')\n",
        "\n",
        "today = ts.now()\n",
        "yesterday = ts.utc(today.utc_datetime() - timedelta(days=1))\n",
        "tz = timezone('Asia/Tokyo')\n",
        "\n",
        "print('なう！:', today.astimezone(tz).strftime('%Y-%m-%d %H:%M:%S'))\n",
        "\n",
        "point = Topos('35.4500 N', '139.6500 E') # 横浜（神奈川）@国立天文台\n",
        "\n",
        "t, updown = find_discrete(yesterday, today, sunrise_sunset(eph, point))\n",
        "\n",
        "for yi, ti in zip(updown, t):\n",
        "    print('日の出:' if yi else '日の入:', ti.astimezone(tz).strftime('%Y-%m-%d %H:%M:%S'), 'JST')"
      ],
      "metadata": {
        "colab": {
          "base_uri": "https://localhost:8080/"
        },
        "id": "Qxh22NJUD_9-",
        "outputId": "40290303-3910-4de6-a3a2-ee9823f8a8e2"
      },
      "execution_count": null,
      "outputs": [
        {
          "output_type": "stream",
          "name": "stderr",
          "text": [
            "[#################################] 100% de421.bsp\n"
          ]
        },
        {
          "output_type": "stream",
          "name": "stdout",
          "text": [
            "なう！: 2024-04-07 10:23:33\n",
            "日の入: 2024-04-06 18:07:00 JST\n",
            "日の出: 2024-04-07 05:19:43 JST\n"
          ]
        }
      ]
    },
    {
      "cell_type": "markdown",
      "source": [
        "国立天文台の情報\n",
        "\n",
        "https://eco.mtk.nao.ac.jp/koyomi/dni/2024/s1504.html\n",
        "\n",
        "によると本日（4/6）の日の出、日の入は次のとおり\n",
        "\n",
        "* 日の出 05:21\n",
        "* 日の入 18:07\n",
        "\n",
        "となっており【日の入】の時間に1分弱のズレが発生している。\n",
        "\n",
        "=> 精度【★★☆】\n",
        "\n",
        "* 実行結果\n",
        "> なう！: 2024-04-06 16:46:25  \n",
        "> 日の出: 2024-04-06 05:21:06 JST  \n",
        "> 日の入: 2024-04-05 18:06:11 JST  "
      ],
      "metadata": {
        "id": "cQj09_F5Pzuj"
      }
    },
    {
      "cell_type": "markdown",
      "source": [
        "## PyEphem\n",
        "\n",
        "http://www.sci-museum.kita.osaka.jp/~egoshi/astronomy/python/python.html\n",
        "\n",
        "https://rhodesmill.org/pyephem/"
      ],
      "metadata": {
        "id": "0B2rsQMZFwpP"
      }
    },
    {
      "cell_type": "code",
      "source": [
        "!pip install ephem\n",
        "#!pip install --target \"/content/drive/MyDrive/Colab Notebooks/my-modules\" ephem"
      ],
      "metadata": {
        "colab": {
          "base_uri": "https://localhost:8080/"
        },
        "id": "jfSolhtlGLB0",
        "outputId": "094c68a3-2bf7-443e-ec30-6a4271e55010"
      },
      "execution_count": null,
      "outputs": [
        {
          "output_type": "stream",
          "name": "stdout",
          "text": [
            "Collecting ephem\n",
            "  Downloading ephem-4.1.5-cp310-cp310-manylinux_2_17_x86_64.manylinux2014_x86_64.whl (1.8 MB)\n",
            "\u001b[2K     \u001b[90m━━━━━━━━━━━━━━━━━━━━━━━━━━━━━━━━━━━━━━━━\u001b[0m \u001b[32m1.8/1.8 MB\u001b[0m \u001b[31m9.4 MB/s\u001b[0m eta \u001b[36m0:00:00\u001b[0m\n",
            "\u001b[?25hInstalling collected packages: ephem\n",
            "Successfully installed ephem-4.1.5\n"
          ]
        }
      ]
    },
    {
      "cell_type": "code",
      "source": [
        "import sys\n",
        "sys.path.append('/content/drive/MyDrive/Colab Notebooks/my-modules')\n",
        "\n",
        "import ephem\n",
        "import datetime\n",
        "from pytz import timezone\n",
        "\n",
        "point = ephem.Observer()\n",
        "point.lat = '35.4500'  # 横浜（神奈川）@国立天文台\n",
        "point.lon = '139.6500' # 横浜（神奈川）@国立天文台\n",
        "point.date = datetime.datetime.utcnow()\n",
        "#point.date = datetime.datetime(year=2024, month=4, day=6)\n",
        "tz = timezone('Asia/Tokyo')\n",
        "\n",
        "sun = ephem.Sun()\n",
        "\n",
        "print('なう！:', ephem.localtime(point.date).astimezone(tz).strftime('%Y-%m-%d %H:%M:%S'))\n",
        "print('日の出:', ephem.localtime(point.previous_rising(sun)).astimezone(tz).strftime('%Y-%m-%d %H:%M:%S'))\n",
        "print('日の入:', ephem.localtime(point.next_setting(sun)).astimezone(tz).strftime('%Y-%m-%d %H:%M:%S'))"
      ],
      "metadata": {
        "colab": {
          "base_uri": "https://localhost:8080/"
        },
        "id": "ssO_kevzEJen",
        "outputId": "cff03cb1-02d5-4848-e5f9-5ebed0f1913f"
      },
      "execution_count": null,
      "outputs": [
        {
          "output_type": "stream",
          "name": "stdout",
          "text": [
            "なう！: 2024-04-07 10:25:18\n",
            "日の出: 2024-04-07 05:19:28\n",
            "日の入: 2024-04-07 18:08:05\n"
          ]
        }
      ]
    },
    {
      "cell_type": "markdown",
      "source": [
        "国立天文台の情報\n",
        "\n",
        "https://eco.mtk.nao.ac.jp/koyomi/dni/2024/s1504.html\n",
        "\n",
        "によると本日（4/6）の日の出、日の入は次のとおり\n",
        "\n",
        "* 日の出 05:21\n",
        "* 日の入 18:07\n",
        "\n",
        "となっており概ね時間が一致している。\n",
        "\n",
        "=> 精度【★★★】\n",
        "\n",
        "* 実行結果\n",
        "> なう！: 2024-04-06 16:56:25  \n",
        "> 日の出: 2024-04-06 05:20:50  \n",
        "> 日の入: 2024-04-06 18:07:16  "
      ],
      "metadata": {
        "id": "J2_yIMnXQkea"
      }
    },
    {
      "cell_type": "markdown",
      "source": [
        "# Mercury Cloud\n",
        "\n",
        "https://runmercury.com/docs/cloud/\n",
        "\n",
        "https://qiita.com/DoroDango/items/269c74d091ef6b94b9ab"
      ],
      "metadata": {
        "id": "K48ZfZ6tLv9e"
      }
    },
    {
      "cell_type": "code",
      "source": [
        "!pip install -r requirements.txt"
      ],
      "metadata": {
        "id": "b6f8GSEWiQ5r"
      },
      "execution_count": null,
      "outputs": []
    },
    {
      "cell_type": "code",
      "source": [
        "import sys\n",
        "sys.path.append('/content/drive/MyDrive/Colab Notebooks/my-modules')\n",
        "\n",
        "import ephem\n",
        "import datetime\n",
        "import matplotlib.pyplot as plt\n",
        "import matplotlib.dates as mdates\n",
        "from pytz import timezone\n",
        "from matplotlib import ticker\n",
        "\n",
        "point = ephem.Observer()\n",
        "point.lat = '35.4500'  # 横浜（神奈川）@国立天文台\n",
        "point.lon = '139.6500' # 横浜（神奈川）@国立天文台\n",
        "\n",
        "sf_ymd = '%Y-%m-%d'\n",
        "sf_HMS = '%H:%M:%S'\n",
        "\n",
        "tz = timezone('Asia/Tokyo')\n",
        "now = datetime.datetime.utcnow()\n",
        "today_str = now.astimezone(tz).strftime(sf_ymd)\n",
        "\n",
        "x_dates = []\n",
        "y_sr_times = []\n",
        "y_ss_times = []\n",
        "y_day_times = []\n",
        "\n",
        "start_year = now.astimezone(tz).year\n",
        "date = datetime.datetime(year=start_year, month=1, day=1)\n",
        "\n",
        "for i in range(366):\n",
        "    point.date = date\n",
        "    sun = ephem.Sun()\n",
        "    dt0jst = datetime.datetime(year=date.year, month=date.month, day=date.day, tzinfo=datetime.timezone(datetime.timedelta(hours=+9)))\n",
        "    dt1jst = ephem.localtime(point.previous_rising(sun)).astimezone(tz)\n",
        "    dt2jst = ephem.localtime(point.next_setting(sun)).astimezone(tz)\n",
        "    day = dt2jst - dt1jst\n",
        "\n",
        "    x_dates.append(dt0jst)\n",
        "    y_sr_times.append((dt1jst - dt0jst).total_seconds() / 60 / 60)\n",
        "    y_ss_times.append((dt2jst - dt0jst).total_seconds() / 60 / 60)\n",
        "    y_day_times.append(day.total_seconds() / 60 / 60)\n",
        "\n",
        "    dt0str = dt0jst.strftime(sf_ymd)\n",
        "    dt1str = dt1jst.strftime(sf_HMS)\n",
        "    dt2str = dt2jst.strftime(sf_HMS)\n",
        "    # for DEBUG\n",
        "    #print(f'(日付, 日の出, 日の入, 日中長[時間]) = ({dt0str}, {dt1str}, {dt2str}, {day})')\n",
        "    if dt0str == today_str:\n",
        "       print(f'(日付, 日の出, 日の入, 日中長[時間]) = ({dt0str}, {dt1str}, {dt2str}, {day})\\n')\n",
        "\n",
        "    date += datetime.timedelta(days=1)\n",
        "\n",
        "# 日の出：Min/Max\n",
        "idx = y_sr_times.index(min(y_sr_times))\n",
        "print(f'日の出【最早】： (日付, 日の出, 日の入, 日中長[時間]) = ({x_dates[idx].strftime(sf_ymd)}, {y_sr_times[idx]}, {y_ss_times[idx]}, {y_day_times[idx]})')\n",
        "idx = y_sr_times.index(max(y_sr_times))\n",
        "print(f'日の出【最遅】： (日付, 日の出, 日の入, 日中長[時間]) = ({x_dates[idx].strftime(sf_ymd)}, {y_sr_times[idx]}, {y_ss_times[idx]}, {y_day_times[idx]})')\n",
        "print('')\n",
        "\n",
        "# 日の入：Min/Max\n",
        "idx = y_ss_times.index(min(y_ss_times))\n",
        "print(f'日の入【最早】： (日付, 日の出, 日の入, 日中長[時間]) = ({x_dates[idx].strftime(sf_ymd)}, {y_sr_times[idx]}, {y_ss_times[idx]}, {y_day_times[idx]})')\n",
        "idx = y_ss_times.index(max(y_ss_times))\n",
        "print(f'日の入【最遅】： (日付, 日の出, 日の入, 日中長[時間]) = ({x_dates[idx].strftime(sf_ymd)}, {y_sr_times[idx]}, {y_ss_times[idx]}, {y_day_times[idx]})')\n",
        "print('')\n",
        "\n",
        "# 日中の長さ：Min/Max\n",
        "idx = y_day_times.index(min(y_day_times))\n",
        "print(f'日中長【冬至】： (日付, 日の出, 日の入, 日中長[時間]) = ({x_dates[idx].strftime(sf_ymd)}, {y_sr_times[idx]}, {y_ss_times[idx]}, {y_day_times[idx]})')\n",
        "idx = y_day_times.index(max(y_day_times))\n",
        "print(f'日中長【夏至】： (日付, 日の出, 日の入, 日中長[時間]) = ({x_dates[idx].strftime(sf_ymd)}, {y_sr_times[idx]}, {y_ss_times[idx]}, {y_day_times[idx]})')\n",
        "print('')\n",
        "\n",
        "# グラフ描画（日の出、日の入の時刻）\n",
        "plt.figure(figsize=[12, 6])\n",
        "plt.plot_date(x_dates, y_sr_times, markersize=1, color='darkorange')\n",
        "plt.plot_date(x_dates, y_ss_times, markersize=1, color='darkblue')\n",
        "plt.axvline(now.astimezone(tz), color='r', linestyle='solid', linewidth=2)\n",
        "plt.title(\"Sunrise and Sunset Time\")\n",
        "plt.xlabel(\"Date\")\n",
        "plt.ylabel(\"Day Time\")\n",
        "plt.legend(['Sunrise Time', 'Sunset Time', 'Today'])\n",
        "plt.gca().xaxis.set_major_locator(mdates.MonthLocator(interval=1))\n",
        "plt.gca().yaxis.set_major_locator(ticker.MultipleLocator(2))\n",
        "plt.gcf().autofmt_xdate()\n",
        "plt.grid(axis=\"x\")\n",
        "plt.minorticks_on()\n",
        "plt.grid(which = \"both\", axis=\"y\")\n",
        "plt.show()\n",
        "\n",
        "# グラフ描画（日中の長さ）\n",
        "plt.figure(figsize=[12, 6])\n",
        "plt.plot_date(x_dates, y_day_times, markersize=1, color='darkorange')\n",
        "plt.axvline(now.astimezone(tz), color='r', linestyle='solid', linewidth=2)\n",
        "plt.title(\"Day Time Length\")\n",
        "plt.xlabel(\"Date\")\n",
        "plt.ylabel(\"Day Time Length[hour]\")\n",
        "plt.legend(['Day Time Length', 'Today'])\n",
        "plt.gca().xaxis.set_major_locator(mdates.MonthLocator(interval=1))\n",
        "plt.gca().yaxis.set_major_locator(ticker.MultipleLocator(1))\n",
        "plt.gcf().autofmt_xdate()\n",
        "plt.grid(axis=\"x\")\n",
        "plt.minorticks_on()\n",
        "plt.grid(which = \"both\", axis=\"y\")\n",
        "plt.show()\n"
      ],
      "metadata": {
        "colab": {
          "base_uri": "https://localhost:8080/",
          "height": 1000
        },
        "id": "CxIVwjGaTAX7",
        "outputId": "034704a5-366d-419c-9a81-70b2b7f12a73"
      },
      "execution_count": null,
      "outputs": [
        {
          "output_type": "stream",
          "name": "stdout",
          "text": [
            "(日付, 日の出, 日の入, 日中長[時間]) = (2024-04-07, 05:19:27, 18:08:05, 12:48:37.169277)\n",
            "\n",
            "日の出【最早】： (日付, 日の出, 日の入, 日中長[時間]) = (2024-06-13, 4.422937134444444, 18.962846245277778, 14.539909110833333)\n",
            "日の出【最遅】： (日付, 日の出, 日の入, 日中長[時間]) = (2024-01-08, 6.8461861794444445, 16.747240094722223, 9.901053915277776)\n",
            "\n",
            "日の入【最早】： (日付, 日の出, 日の入, 日中長[時間]) = (2024-12-05, 6.587266166666667, 16.47752939777778, 9.890263231111112)\n",
            "日の入【最遅】： (日付, 日の出, 日の入, 日中長[時間]) = (2024-06-29, 4.479306798888889, 19.015874062222224, 14.536567263333332)\n",
            "\n",
            "日中長【冬至】： (日付, 日の出, 日の入, 日中長[時間]) = (2024-12-21, 6.771982281111111, 16.54457454888889, 9.772592267777778)\n",
            "日中長【夏至】： (日付, 日の出, 日の入, 日中長[時間]) = (2024-06-21, 4.438199931111112, 19.00300006638889, 14.564800135277778)\n",
            "\n"
          ]
        },
        {
          "output_type": "display_data",
          "data": {
            "text/plain": [
              "<Figure size 1200x600 with 1 Axes>"
            ],
            "image/png": "[encoded data removed]"
          },
          "metadata": {}
        },
        {
          "output_type": "display_data",
          "data": {
            "text/plain": [
              "<Figure size 1200x600 with 1 Axes>"
            ],
            "image/png": "[encoded data removed]"
          },
          "metadata": {}
        }
      ]
    },
    {
      "cell_type": "code",
      "source": [
        "!pip install mercury\n",
        "#!pip install --target \"/content/drive/MyDrive/Colab Notebooks/my-modules\" mercury"
      ],
      "metadata": {
        "colab": {
          "base_uri": "https://localhost:8080/",
          "height": 1000
        },
        "id": "rkGt3SQlMHrN",
        "outputId": "7f4103e1-be6b-49fd-fbc4-03d30b84944c"
      },
      "execution_count": null,
      "outputs": [
        {
          "output_type": "stream",
          "name": "stdout",
          "text": [
            "Collecting mercury\n",
            "  Downloading mercury-2.3.10.tar.gz (2.6 MB)\n",
            "\u001b[2K     \u001b[90m━━━━━━━━━━━━━━━━━━━━━━━━━━━━━━━━━━━━━━━━\u001b[0m \u001b[32m2.6/2.6 MB\u001b[0m \u001b[31m10.0 MB/s\u001b[0m eta \u001b[36m0:00:00\u001b[0m\n",
            "\u001b[?25h  Installing build dependencies ... \u001b[?25l\u001b[?25hdone\n",
            "  Getting requirements to build wheel ... \u001b[?25l\u001b[?25hdone\n",
            "  Preparing metadata (pyproject.toml) ... \u001b[?25l\u001b[?25hdone\n",
            "Collecting django==4.2.3 (from mercury)\n",
            "  Downloading Django-4.2.3-py3-none-any.whl (8.0 MB)\n",
            "\u001b[2K     \u001b[90m━━━━━━━━━━━━━━━━━━━━━━━━━━━━━━━━━━━━━━━━\u001b[0m \u001b[32m8.0/8.0 MB\u001b[0m \u001b[31m26.3 MB/s\u001b[0m eta \u001b[36m0:00:00\u001b[0m\n",
            "\u001b[?25hCollecting djangorestframework==3.14.0 (from mercury)\n",
            "  Downloading djangorestframework-3.14.0-py3-none-any.whl (1.1 MB)\n",
            "\u001b[2K     \u001b[90m━━━━━━━━━━━━━━━━━━━━━━━━━━━━━━━━━━━━━━━━\u001b[0m \u001b[32m1.1/1.1 MB\u001b[0m \u001b[31m38.6 MB/s\u001b[0m eta \u001b[36m0:00:00\u001b[0m\n",
            "\u001b[?25hCollecting django-filter==21.1 (from mercury)\n",
            "  Downloading django_filter-21.1-py3-none-any.whl (81 kB)\n",
            "\u001b[2K     \u001b[90m━━━━━━━━━━━━━━━━━━━━━━━━━━━━━━━━━━━━━━━━\u001b[0m \u001b[32m81.4/81.4 kB\u001b[0m \u001b[31m10.1 MB/s\u001b[0m eta \u001b[36m0:00:00\u001b[0m\n",
            "\u001b[?25hCollecting markdown==3.3.6 (from mercury)\n",
            "  Downloading Markdown-3.3.6-py3-none-any.whl (97 kB)\n",
            "\u001b[2K     \u001b[90m━━━━━━━━━━━━━━━━━━━━━━━━━━━━━━━━━━━━━━━━\u001b[0m \u001b[32m97.8/97.8 kB\u001b[0m \u001b[31m12.1 MB/s\u001b[0m eta \u001b[36m0:00:00\u001b[0m\n",
            "\u001b[?25hCollecting celery>=5.1.2 (from mercury)\n",
            "  Downloading celery-5.3.6-py3-none-any.whl (422 kB)\n",
            "\u001b[2K     \u001b[90m━━━━━━━━━━━━━━━━━━━━━━━━━━━━━━━━━━━━━━━━\u001b[0m \u001b[32m422.0/422.0 kB\u001b[0m \u001b[31m35.9 MB/s\u001b[0m eta \u001b[36m0:00:00\u001b[0m\n",
            "\u001b[?25hCollecting sqlalchemy==1.4.27 (from mercury)\n",
            "  Downloading SQLAlchemy-1.4.27-cp310-cp310-manylinux_2_5_x86_64.manylinux1_x86_64.manylinux_2_17_x86_64.manylinux2014_x86_64.whl (1.6 MB)\n",
            "\u001b[2K     \u001b[90m━━━━━━━━━━━━━━━━━━━━━━━━━━━━━━━━━━━━━━━━\u001b[0m \u001b[32m1.6/1.6 MB\u001b[0m \u001b[31m38.8 MB/s\u001b[0m eta \u001b[36m0:00:00\u001b[0m\n",
            "\u001b[?25hCollecting gevent (from mercury)\n",
            "  Downloading gevent-24.2.1-cp310-cp310-manylinux_2_28_x86_64.whl (6.5 MB)\n",
            "\u001b[2K     \u001b[90m━━━━━━━━━━━━━━━━━━━━━━━━━━━━━━━━━━━━━━━━\u001b[0m \u001b[32m6.5/6.5 MB\u001b[0m \u001b[31m49.6 MB/s\u001b[0m eta \u001b[36m0:00:00\u001b[0m\n",
            "\u001b[?25hCollecting nbconvert>=7.8.0 (from mercury)\n",
            "  Downloading nbconvert-7.16.3-py3-none-any.whl (257 kB)\n",
            "\u001b[2K     \u001b[90m━━━━━━━━━━━━━━━━━━━━━━━━━━━━━━━━━━━━━━━━\u001b[0m \u001b[32m257.4/257.4 kB\u001b[0m \u001b[31m24.2 MB/s\u001b[0m eta \u001b[36m0:00:00\u001b[0m\n",
            "\u001b[?25hRequirement already satisfied: ipython-genutils in /usr/local/lib/python3.10/dist-packages (from mercury) (0.2.0)\n",
            "Collecting django-cors-headers==3.10.1 (from mercury)\n",
            "  Downloading django_cors_headers-3.10.1-py3-none-any.whl (12 kB)\n",
            "Requirement already satisfied: ipython>=7.30.1 in /usr/local/lib/python3.10/dist-packages (from mercury) (7.34.0)\n",
            "Collecting ipykernel>=6.6.0 (from mercury)\n",
            "  Downloading ipykernel-6.29.4-py3-none-any.whl (117 kB)\n",
            "\u001b[2K     \u001b[90m━━━━━━━━━━━━━━━━━━━━━━━━━━━━━━━━━━━━━━━━\u001b[0m \u001b[32m117.1/117.1 kB\u001b[0m \u001b[31m12.9 MB/s\u001b[0m eta \u001b[36m0:00:00\u001b[0m\n",
            "\u001b[?25hRequirement already satisfied: psutil>=5.8.0 in /usr/local/lib/python3.10/dist-packages (from mercury) (5.9.5)\n",
            "Collecting whitenoise>=5.3.0 (from mercury)\n",
            "  Downloading whitenoise-6.6.0-py3-none-any.whl (19 kB)\n",
            "Collecting python-dotenv>=0.19.2 (from mercury)\n",
            "  Downloading python_dotenv-1.0.1-py3-none-any.whl (19 kB)\n",
            "Collecting django-drf-filepond==0.4.1 (from mercury)\n",
            "  Downloading django_drf_filepond-0.4.1-py2.py3-none-any.whl (39 kB)\n",
            "Collecting croniter>=1.3.5 (from mercury)\n",
            "  Downloading croniter-2.0.3-py2.py3-none-any.whl (20 kB)\n",
            "Collecting pyppeteer==1.0.2 (from mercury)\n",
            "  Downloading pyppeteer-1.0.2-py3-none-any.whl (83 kB)\n",
            "\u001b[2K     \u001b[90m━━━━━━━━━━━━━━━━━━━━━━━━━━━━━━━━━━━━━━━━\u001b[0m \u001b[32m83.4/83.4 kB\u001b[0m \u001b[31m8.8 MB/s\u001b[0m eta \u001b[36m0:00:00\u001b[0m\n",
            "\u001b[?25hCollecting channels[daphne]>=4.0.0 (from mercury)\n",
            "  Downloading channels-4.1.0-py3-none-any.whl (30 kB)\n",
            "Requirement already satisfied: websocket-client>=1.4.2 in /usr/local/lib/python3.10/dist-packages (from mercury) (1.7.0)\n",
            "Collecting execnb (from mercury)\n",
            "  Downloading execnb-0.1.5-py3-none-any.whl (13 kB)\n",
            "Collecting ipywidgets==8.0.3 (from mercury)\n",
            "  Downloading ipywidgets-8.0.3-py3-none-any.whl (137 kB)\n",
            "\u001b[2K     \u001b[90m━━━━━━━━━━━━━━━━━━━━━━━━━━━━━━━━━━━━━━━━\u001b[0m \u001b[32m137.9/137.9 kB\u001b[0m \u001b[31m15.9 MB/s\u001b[0m eta \u001b[36m0:00:00\u001b[0m\n",
            "\u001b[?25hCollecting dj-rest-auth[with_social]==3.0.0 (from mercury)\n",
            "  Downloading dj-rest-auth-3.0.0.tar.gz (100 kB)\n",
            "\u001b[2K     \u001b[90m━━━━━━━━━━━━━━━━━━━━━━━━━━━━━━━━━━━━━━━━\u001b[0m \u001b[32m100.2/100.2 kB\u001b[0m \u001b[31m11.5 MB/s\u001b[0m eta \u001b[36m0:00:00\u001b[0m\n",
            "\u001b[?25h  Preparing metadata (setup.py) ... \u001b[?25l\u001b[?25hdone\n",
            "Collecting boto3==1.26.83 (from mercury)\n",
            "  Downloading boto3-1.26.83-py3-none-any.whl (134 kB)\n",
            "\u001b[2K     \u001b[90m━━━━━━━━━━━━━━━━━━━━━━━━━━━━━━━━━━━━━━━━\u001b[0m \u001b[32m134.7/134.7 kB\u001b[0m \u001b[31m14.3 MB/s\u001b[0m eta \u001b[36m0:00:00\u001b[0m\n",
            "\u001b[?25hRequirement already satisfied: cryptography in /usr/local/lib/python3.10/dist-packages (from mercury) (42.0.5)\n",
            "Requirement already satisfied: pyopenssl>=23.1.1 in /usr/local/lib/python3.10/dist-packages (from mercury) (24.1.0)\n",
            "Requirement already satisfied: bleach>=6.0.0 in /usr/local/lib/python3.10/dist-packages (from mercury) (6.1.0)\n",
            "Collecting itables>=2.0.0 (from mercury)\n",
            "  Downloading itables-2.0.0-py3-none-any.whl (215 kB)\n",
            "\u001b[2K     \u001b[90m━━━━━━━━━━━━━━━━━━━━━━━━━━━━━━━━━━━━━━━━\u001b[0m \u001b[32m215.6/215.6 kB\u001b[0m \u001b[31m22.4 MB/s\u001b[0m eta \u001b[36m0:00:00\u001b[0m\n",
            "\u001b[?25hCollecting botocore<1.30.0,>=1.29.83 (from boto3==1.26.83->mercury)\n",
            "  Downloading botocore-1.29.165-py3-none-any.whl (11.0 MB)\n",
            "\u001b[2K     \u001b[90m━━━━━━━━━━━━━━━━━━━━━━━━━━━━━━━━━━━━━━━━\u001b[0m \u001b[32m11.0/11.0 MB\u001b[0m \u001b[31m61.7 MB/s\u001b[0m eta \u001b[36m0:00:00\u001b[0m\n",
            "\u001b[?25hCollecting jmespath<2.0.0,>=0.7.1 (from boto3==1.26.83->mercury)\n",
            "  Downloading jmespath-1.0.1-py3-none-any.whl (20 kB)\n",
            "Collecting s3transfer<0.7.0,>=0.6.0 (from boto3==1.26.83->mercury)\n",
            "  Downloading s3transfer-0.6.2-py3-none-any.whl (79 kB)\n",
            "\u001b[2K     \u001b[90m━━━━━━━━━━━━━━━━━━━━━━━━━━━━━━━━━━━━━━━━\u001b[0m \u001b[32m79.8/79.8 kB\u001b[0m \u001b[31m7.5 MB/s\u001b[0m eta \u001b[36m0:00:00\u001b[0m\n",
            "\u001b[?25hCollecting django-allauth<0.53.0,>=0.40.0 (from dj-rest-auth[with_social]==3.0.0->mercury)\n",
            "  Downloading django-allauth-0.52.0.tar.gz (728 kB)\n",
            "\u001b[2K     \u001b[90m━━━━━━━━━━━━━━━━━━━━━━━━━━━━━━━━━━━━━━━━\u001b[0m \u001b[32m728.3/728.3 kB\u001b[0m \u001b[31m45.8 MB/s\u001b[0m eta \u001b[36m0:00:00\u001b[0m\n",
            "\u001b[?25h  Preparing metadata (setup.py) ... \u001b[?25l\u001b[?25hdone\n",
            "Collecting asgiref<4,>=3.6.0 (from django==4.2.3->mercury)\n",
            "  Downloading asgiref-3.8.1-py3-none-any.whl (23 kB)\n",
            "Requirement already satisfied: sqlparse>=0.3.1 in /usr/local/lib/python3.10/dist-packages (from django==4.2.3->mercury) (0.4.4)\n",
            "Requirement already satisfied: requests>=2.20.1 in /usr/local/lib/python3.10/dist-packages (from django-drf-filepond==0.4.1->mercury) (2.31.0)\n",
            "Requirement already satisfied: six>=1.14.0 in /usr/local/lib/python3.10/dist-packages (from django-drf-filepond==0.4.1->mercury) (1.16.0)\n",
            "Collecting shortuuid>=0.5.0 (from django-drf-filepond==0.4.1->mercury)\n",
            "  Downloading shortuuid-1.0.13-py3-none-any.whl (10 kB)\n",
            "Collecting django-storages>=1.9.1 (from django-drf-filepond==0.4.1->mercury)\n",
            "  Downloading django_storages-1.14.2-py3-none-any.whl (47 kB)\n",
            "\u001b[2K     \u001b[90m━━━━━━━━━━━━━━━━━━━━━━━━━━━━━━━━━━━━━━━━\u001b[0m \u001b[32m47.1/47.1 kB\u001b[0m \u001b[31m4.9 MB/s\u001b[0m eta \u001b[36m0:00:00\u001b[0m\n",
            "\u001b[?25hRequirement already satisfied: pytz in /usr/local/lib/python3.10/dist-packages (from djangorestframework==3.14.0->mercury) (2023.4)\n",
            "Requirement already satisfied: traitlets>=4.3.1 in /usr/local/lib/python3.10/dist-packages (from ipywidgets==8.0.3->mercury) (5.7.1)\n",
            "Collecting widgetsnbextension~=4.0 (from ipywidgets==8.0.3->mercury)\n",
            "  Downloading widgetsnbextension-4.0.10-py3-none-any.whl (2.3 MB)\n",
            "\u001b[2K     \u001b[90m━━━━━━━━━━━━━━━━━━━━━━━━━━━━━━━━━━━━━━━━\u001b[0m \u001b[32m2.3/2.3 MB\u001b[0m \u001b[31m77.4 MB/s\u001b[0m eta \u001b[36m0:00:00\u001b[0m\n",
            "\u001b[?25hRequirement already satisfied: jupyterlab-widgets~=3.0 in /usr/local/lib/python3.10/dist-packages (from ipywidgets==8.0.3->mercury) (3.0.10)\n",
            "Requirement already satisfied: appdirs<2.0.0,>=1.4.3 in /usr/local/lib/python3.10/dist-packages (from pyppeteer==1.0.2->mercury) (1.4.4)\n",
            "Requirement already satisfied: certifi>=2021 in /usr/local/lib/python3.10/dist-packages (from pyppeteer==1.0.2->mercury) (2024.2.2)\n",
            "Requirement already satisfied: importlib-metadata>=1.4 in /usr/local/lib/python3.10/dist-packages (from pyppeteer==1.0.2->mercury) (7.1.0)\n",
            "Collecting pyee<9.0.0,>=8.1.0 (from pyppeteer==1.0.2->mercury)\n",
            "  Downloading pyee-8.2.2-py2.py3-none-any.whl (12 kB)\n",
            "Requirement already satisfied: tqdm<5.0.0,>=4.42.1 in /usr/local/lib/python3.10/dist-packages (from pyppeteer==1.0.2->mercury) (4.66.2)\n",
            "Collecting urllib3<2.0.0,>=1.25.8 (from pyppeteer==1.0.2->mercury)\n",
            "  Downloading urllib3-1.26.18-py2.py3-none-any.whl (143 kB)\n",
            "\u001b[2K     \u001b[90m━━━━━━━━━━━━━━━━━━━━━━━━━━━━━━━━━━━━━━━━\u001b[0m \u001b[32m143.8/143.8 kB\u001b[0m \u001b[31m13.0 MB/s\u001b[0m eta \u001b[36m0:00:00\u001b[0m\n",
            "\u001b[?25hCollecting websockets<11.0,>=10.0 (from pyppeteer==1.0.2->mercury)\n",
            "  Downloading websockets-10.4-cp310-cp310-manylinux_2_5_x86_64.manylinux1_x86_64.manylinux_2_17_x86_64.manylinux2014_x86_64.whl (106 kB)\n",
            "\u001b[2K     \u001b[90m━━━━━━━━━━━━━━━━━━━━━━━━━━━━━━━━━━━━━━━━\u001b[0m \u001b[32m106.8/106.8 kB\u001b[0m \u001b[31m13.3 MB/s\u001b[0m eta \u001b[36m0:00:00\u001b[0m\n",
            "\u001b[?25hRequirement already satisfied: greenlet!=0.4.17 in /usr/local/lib/python3.10/dist-packages (from sqlalchemy==1.4.27->mercury) (3.0.3)\n",
            "Requirement already satisfied: webencodings in /usr/local/lib/python3.10/dist-packages (from bleach>=6.0.0->mercury) (0.5.1)\n",
            "Collecting billiard<5.0,>=4.2.0 (from celery>=5.1.2->mercury)\n",
            "  Downloading billiard-4.2.0-py3-none-any.whl (86 kB)\n",
            "\u001b[2K     \u001b[90m━━━━━━━━━━━━━━━━━━━━━━━━━━━━━━━━━━━━━━━━\u001b[0m \u001b[32m86.7/86.7 kB\u001b[0m \u001b[31m10.9 MB/s\u001b[0m eta \u001b[36m0:00:00\u001b[0m\n",
            "\u001b[?25hCollecting click-didyoumean>=0.3.0 (from celery>=5.1.2->mercury)\n",
            "  Downloading click_didyoumean-0.3.1-py3-none-any.whl (3.6 kB)\n",
            "Requirement already satisfied: click-plugins>=1.1.1 in /usr/local/lib/python3.10/dist-packages (from celery>=5.1.2->mercury) (1.1.1)\n",
            "Collecting click-repl>=0.2.0 (from celery>=5.1.2->mercury)\n",
            "  Downloading click_repl-0.3.0-py3-none-any.whl (10 kB)\n",
            "Requirement already satisfied: click<9.0,>=8.1.2 in /usr/local/lib/python3.10/dist-packages (from celery>=5.1.2->mercury) (8.1.7)\n",
            "Collecting kombu<6.0,>=5.3.4 (from celery>=5.1.2->mercury)\n",
            "  Downloading kombu-5.3.6-py3-none-any.whl (200 kB)\n",
            "\u001b[2K     \u001b[90m━━━━━━━━━━━━━━━━━━━━━━━━━━━━━━━━━━━━━━━━\u001b[0m \u001b[32m200.2/200.2 kB\u001b[0m \u001b[31m1.7 MB/s\u001b[0m eta \u001b[36m0:00:00\u001b[0m\n",
            "\u001b[?25hRequirement already satisfied: python-dateutil>=2.8.2 in /usr/local/lib/python3.10/dist-packages (from celery>=5.1.2->mercury) (2.8.2)\n",
            "Requirement already satisfied: tzdata>=2022.7 in /usr/local/lib/python3.10/dist-packages (from celery>=5.1.2->mercury) (2024.1)\n",
            "Collecting vine<6.0,>=5.1.0 (from celery>=5.1.2->mercury)\n",
            "  Downloading vine-5.1.0-py3-none-any.whl (9.6 kB)\n",
            "Collecting daphne>=4.0.0 (from channels[daphne]>=4.0.0->mercury)\n",
            "  Downloading daphne-4.1.0-py3-none-any.whl (30 kB)\n",
            "Collecting comm>=0.1.1 (from ipykernel>=6.6.0->mercury)\n",
            "  Downloading comm-0.2.2-py3-none-any.whl (7.2 kB)\n",
            "Requirement already satisfied: debugpy>=1.6.5 in /usr/local/lib/python3.10/dist-packages (from ipykernel>=6.6.0->mercury) (1.6.6)\n",
            "Requirement already satisfied: jupyter-client>=6.1.12 in /usr/local/lib/python3.10/dist-packages (from ipykernel>=6.6.0->mercury) (6.1.12)\n",
            "Requirement already satisfied: jupyter-core!=5.0.*,>=4.12 in /usr/local/lib/python3.10/dist-packages (from ipykernel>=6.6.0->mercury) (5.7.2)\n",
            "Requirement already satisfied: matplotlib-inline>=0.1 in /usr/local/lib/python3.10/dist-packages (from ipykernel>=6.6.0->mercury) (0.1.6)\n",
            "Requirement already satisfied: nest-asyncio in /usr/local/lib/python3.10/dist-packages (from ipykernel>=6.6.0->mercury) (1.6.0)\n",
            "Requirement already satisfied: packaging in /usr/local/lib/python3.10/dist-packages (from ipykernel>=6.6.0->mercury) (24.0)\n",
            "Collecting pyzmq>=24 (from ipykernel>=6.6.0->mercury)\n",
            "  Downloading pyzmq-25.1.2-cp310-cp310-manylinux_2_28_x86_64.whl (1.1 MB)\n",
            "\u001b[2K     \u001b[90m━━━━━━━━━━━━━━━━━━━━━━━━━━━━━━━━━━━━━━━━\u001b[0m \u001b[32m1.1/1.1 MB\u001b[0m \u001b[31m56.3 MB/s\u001b[0m eta \u001b[36m0:00:00\u001b[0m\n",
            "\u001b[?25hRequirement already satisfied: tornado>=6.1 in /usr/local/lib/python3.10/dist-packages (from ipykernel>=6.6.0->mercury) (6.3.3)\n",
            "Requirement already satisfied: setuptools>=18.5 in /usr/local/lib/python3.10/dist-packages (from ipython>=7.30.1->mercury) (67.7.2)\n",
            "Collecting jedi>=0.16 (from ipython>=7.30.1->mercury)\n",
            "  Downloading jedi-0.19.1-py2.py3-none-any.whl (1.6 MB)\n",
            "\u001b[2K     \u001b[90m━━━━━━━━━━━━━━━━━━━━━━━━━━━━━━━━━━━━━━━━\u001b[0m \u001b[32m1.6/1.6 MB\u001b[0m \u001b[31m59.5 MB/s\u001b[0m eta \u001b[36m0:00:00\u001b[0m\n",
            "\u001b[?25hRequirement already satisfied: decorator in /usr/local/lib/python3.10/dist-packages (from ipython>=7.30.1->mercury) (4.4.2)\n",
            "Requirement already satisfied: pickleshare in /usr/local/lib/python3.10/dist-packages (from ipython>=7.30.1->mercury) (0.7.5)\n",
            "Requirement already satisfied: prompt-toolkit!=3.0.0,!=3.0.1,<3.1.0,>=2.0.0 in /usr/local/lib/python3.10/dist-packages (from ipython>=7.30.1->mercury) (3.0.43)\n",
            "Requirement already satisfied: pygments in /usr/local/lib/python3.10/dist-packages (from ipython>=7.30.1->mercury) (2.16.1)\n",
            "Requirement already satisfied: backcall in /usr/local/lib/python3.10/dist-packages (from ipython>=7.30.1->mercury) (0.2.0)\n",
            "Requirement already satisfied: pexpect>4.3 in /usr/local/lib/python3.10/dist-packages (from ipython>=7.30.1->mercury) (4.9.0)\n",
            "Requirement already satisfied: numpy in /usr/local/lib/python3.10/dist-packages (from itables>=2.0.0->mercury) (1.25.2)\n",
            "Requirement already satisfied: pandas in /usr/local/lib/python3.10/dist-packages (from itables>=2.0.0->mercury) (2.0.3)\n",
            "Requirement already satisfied: beautifulsoup4 in /usr/local/lib/python3.10/dist-packages (from nbconvert>=7.8.0->mercury) (4.12.3)\n",
            "Requirement already satisfied: defusedxml in /usr/local/lib/python3.10/dist-packages (from nbconvert>=7.8.0->mercury) (0.7.1)\n",
            "Requirement already satisfied: jinja2>=3.0 in /usr/local/lib/python3.10/dist-packages (from nbconvert>=7.8.0->mercury) (3.1.3)\n",
            "Requirement already satisfied: jupyterlab-pygments in /usr/local/lib/python3.10/dist-packages (from nbconvert>=7.8.0->mercury) (0.3.0)\n",
            "Requirement already satisfied: markupsafe>=2.0 in /usr/local/lib/python3.10/dist-packages (from nbconvert>=7.8.0->mercury) (2.1.5)\n",
            "Collecting mistune<4,>=2.0.3 (from nbconvert>=7.8.0->mercury)\n",
            "  Downloading mistune-3.0.2-py3-none-any.whl (47 kB)\n",
            "\u001b[2K     \u001b[90m━━━━━━━━━━━━━━━━━━━━━━━━━━━━━━━━━━━━━━━━\u001b[0m \u001b[32m48.0/48.0 kB\u001b[0m \u001b[31m4.3 MB/s\u001b[0m eta \u001b[36m0:00:00\u001b[0m\n",
            "\u001b[?25hRequirement already satisfied: nbclient>=0.5.0 in /usr/local/lib/python3.10/dist-packages (from nbconvert>=7.8.0->mercury) (0.10.0)\n",
            "Requirement already satisfied: nbformat>=5.7 in /usr/local/lib/python3.10/dist-packages (from nbconvert>=7.8.0->mercury) (5.10.3)\n",
            "Requirement already satisfied: pandocfilters>=1.4.1 in /usr/local/lib/python3.10/dist-packages (from nbconvert>=7.8.0->mercury) (1.5.1)\n",
            "Requirement already satisfied: tinycss2 in /usr/local/lib/python3.10/dist-packages (from nbconvert>=7.8.0->mercury) (1.2.1)\n",
            "Requirement already satisfied: cffi>=1.12 in /usr/local/lib/python3.10/dist-packages (from cryptography->mercury) (1.16.0)\n",
            "Requirement already satisfied: fastcore>=1.5.5 in /usr/local/lib/python3.10/dist-packages (from execnb->mercury) (1.5.29)\n",
            "Collecting zope.event (from gevent->mercury)\n",
            "  Downloading zope.event-5.0-py3-none-any.whl (6.8 kB)\n",
            "Collecting zope.interface (from gevent->mercury)\n",
            "  Downloading zope.interface-6.2-cp310-cp310-manylinux_2_5_x86_64.manylinux1_x86_64.manylinux_2_17_x86_64.manylinux2014_x86_64.whl (247 kB)\n",
            "\u001b[2K     \u001b[90m━━━━━━━━━━━━━━━━━━━━━━━━━━━━━━━━━━━━━━━━\u001b[0m \u001b[32m247.3/247.3 kB\u001b[0m \u001b[31m20.0 MB/s\u001b[0m eta \u001b[36m0:00:00\u001b[0m\n",
            "\u001b[?25hRequirement already satisfied: typing-extensions>=4 in /usr/local/lib/python3.10/dist-packages (from asgiref<4,>=3.6.0->django==4.2.3->mercury) (4.10.0)\n",
            "Requirement already satisfied: pycparser in /usr/local/lib/python3.10/dist-packages (from cffi>=1.12->cryptography->mercury) (2.22)\n",
            "Collecting autobahn>=22.4.2 (from daphne>=4.0.0->channels[daphne]>=4.0.0->mercury)\n",
            "  Downloading autobahn-23.6.2.tar.gz (480 kB)\n",
            "\u001b[2K     \u001b[90m━━━━━━━━━━━━━━━━━━━━━━━━━━━━━━━━━━━━━━━━\u001b[0m \u001b[32m480.8/480.8 kB\u001b[0m \u001b[31m30.4 MB/s\u001b[0m eta \u001b[36m0:00:00\u001b[0m\n",
            "\u001b[?25h  Preparing metadata (setup.py) ... \u001b[?25l\u001b[?25hdone\n",
            "Collecting twisted[tls]>=22.4 (from daphne>=4.0.0->channels[daphne]>=4.0.0->mercury)\n",
            "  Downloading twisted-24.3.0-py3-none-any.whl (3.2 MB)\n",
            "\u001b[2K     \u001b[90m━━━━━━━━━━━━━━━━━━━━━━━━━━━━━━━━━━━━━━━━\u001b[0m \u001b[32m3.2/3.2 MB\u001b[0m \u001b[31m75.3 MB/s\u001b[0m eta \u001b[36m0:00:00\u001b[0m\n",
            "\u001b[?25hCollecting python3-openid>=3.0.8 (from django-allauth<0.53.0,>=0.40.0->dj-rest-auth[with_social]==3.0.0->mercury)\n",
            "  Downloading python3_openid-3.2.0-py3-none-any.whl (133 kB)\n",
            "\u001b[2K     \u001b[90m━━━━━━━━━━━━━━━━━━━━━━━━━━━━━━━━━━━━━━━━\u001b[0m \u001b[32m133.7/133.7 kB\u001b[0m \u001b[31m15.0 MB/s\u001b[0m eta \u001b[36m0:00:00\u001b[0m\n",
            "\u001b[?25hRequirement already satisfied: requests-oauthlib>=0.3.0 in /usr/local/lib/python3.10/dist-packages (from django-allauth<0.53.0,>=0.40.0->dj-rest-auth[with_social]==3.0.0->mercury) (1.3.1)\n",
            "Requirement already satisfied: pyjwt[crypto]>=1.7 in /usr/lib/python3/dist-packages (from django-allauth<0.53.0,>=0.40.0->dj-rest-auth[with_social]==3.0.0->mercury) (2.3.0)\n",
            "Requirement already satisfied: pip in /usr/local/lib/python3.10/dist-packages (from fastcore>=1.5.5->execnb->mercury) (23.1.2)\n",
            "Requirement already satisfied: zipp>=0.5 in /usr/local/lib/python3.10/dist-packages (from importlib-metadata>=1.4->pyppeteer==1.0.2->mercury) (3.18.1)\n",
            "Requirement already satisfied: parso<0.9.0,>=0.8.3 in /usr/local/lib/python3.10/dist-packages (from jedi>=0.16->ipython>=7.30.1->mercury) (0.8.3)\n",
            "Requirement already satisfied: platformdirs>=2.5 in /usr/local/lib/python3.10/dist-packages (from jupyter-core!=5.0.*,>=4.12->ipykernel>=6.6.0->mercury) (4.2.0)\n",
            "Collecting amqp<6.0.0,>=5.1.1 (from kombu<6.0,>=5.3.4->celery>=5.1.2->mercury)\n",
            "  Downloading amqp-5.2.0-py3-none-any.whl (50 kB)\n",
            "\u001b[2K     \u001b[90m━━━━━━━━━━━━━━━━━━━━━━━━━━━━━━━━━━━━━━━━\u001b[0m \u001b[32m50.9/50.9 kB\u001b[0m \u001b[31m5.6 MB/s\u001b[0m eta \u001b[36m0:00:00\u001b[0m\n",
            "\u001b[?25hRequirement already satisfied: fastjsonschema in /usr/local/lib/python3.10/dist-packages (from nbformat>=5.7->nbconvert>=7.8.0->mercury) (2.19.1)\n",
            "Requirement already satisfied: jsonschema>=2.6 in /usr/local/lib/python3.10/dist-packages (from nbformat>=5.7->nbconvert>=7.8.0->mercury) (4.19.2)\n",
            "Requirement already satisfied: ptyprocess>=0.5 in /usr/local/lib/python3.10/dist-packages (from pexpect>4.3->ipython>=7.30.1->mercury) (0.7.0)\n",
            "Requirement already satisfied: wcwidth in /usr/local/lib/python3.10/dist-packages (from prompt-toolkit!=3.0.0,!=3.0.1,<3.1.0,>=2.0.0->ipython>=7.30.1->mercury) (0.2.13)\n",
            "Requirement already satisfied: charset-normalizer<4,>=2 in /usr/local/lib/python3.10/dist-packages (from requests>=2.20.1->django-drf-filepond==0.4.1->mercury) (3.3.2)\n",
            "Requirement already satisfied: idna<4,>=2.5 in /usr/local/lib/python3.10/dist-packages (from requests>=2.20.1->django-drf-filepond==0.4.1->mercury) (3.6)\n",
            "Requirement already satisfied: soupsieve>1.2 in /usr/local/lib/python3.10/dist-packages (from beautifulsoup4->nbconvert>=7.8.0->mercury) (2.5)\n",
            "Collecting txaio>=21.2.1 (from autobahn>=22.4.2->daphne>=4.0.0->channels[daphne]>=4.0.0->mercury)\n",
            "  Downloading txaio-23.1.1-py2.py3-none-any.whl (30 kB)\n",
            "Collecting hyperlink>=21.0.0 (from autobahn>=22.4.2->daphne>=4.0.0->channels[daphne]>=4.0.0->mercury)\n",
            "  Downloading hyperlink-21.0.0-py2.py3-none-any.whl (74 kB)\n",
            "\u001b[2K     \u001b[90m━━━━━━━━━━━━━━━━━━━━━━━━━━━━━━━━━━━━━━━━\u001b[0m \u001b[32m74.6/74.6 kB\u001b[0m \u001b[31m8.5 MB/s\u001b[0m eta \u001b[36m0:00:00\u001b[0m\n",
            "\u001b[?25hRequirement already satisfied: attrs>=22.2.0 in /usr/local/lib/python3.10/dist-packages (from jsonschema>=2.6->nbformat>=5.7->nbconvert>=7.8.0->mercury) (23.2.0)\n",
            "Requirement already satisfied: jsonschema-specifications>=2023.03.6 in /usr/local/lib/python3.10/dist-packages (from jsonschema>=2.6->nbformat>=5.7->nbconvert>=7.8.0->mercury) (2023.12.1)\n",
            "Requirement already satisfied: referencing>=0.28.4 in /usr/local/lib/python3.10/dist-packages (from jsonschema>=2.6->nbformat>=5.7->nbconvert>=7.8.0->mercury) (0.34.0)\n",
            "Requirement already satisfied: rpds-py>=0.7.1 in /usr/local/lib/python3.10/dist-packages (from jsonschema>=2.6->nbformat>=5.7->nbconvert>=7.8.0->mercury) (0.18.0)\n",
            "Requirement already satisfied: oauthlib>=3.0.0 in /usr/local/lib/python3.10/dist-packages (from requests-oauthlib>=0.3.0->django-allauth<0.53.0,>=0.40.0->dj-rest-auth[with_social]==3.0.0->mercury) (3.2.2)\n",
            "Collecting automat>=0.8.0 (from twisted[tls]>=22.4->daphne>=4.0.0->channels[daphne]>=4.0.0->mercury)\n",
            "  Downloading Automat-22.10.0-py2.py3-none-any.whl (26 kB)\n",
            "Collecting constantly>=15.1 (from twisted[tls]>=22.4->daphne>=4.0.0->channels[daphne]>=4.0.0->mercury)\n",
            "  Downloading constantly-23.10.4-py3-none-any.whl (13 kB)\n",
            "Collecting incremental>=22.10.0 (from twisted[tls]>=22.4->daphne>=4.0.0->channels[daphne]>=4.0.0->mercury)\n",
            "  Downloading incremental-22.10.0-py2.py3-none-any.whl (16 kB)\n",
            "Collecting service-identity>=18.1.0 (from twisted[tls]>=22.4->daphne>=4.0.0->channels[daphne]>=4.0.0->mercury)\n",
            "  Downloading service_identity-24.1.0-py3-none-any.whl (12 kB)\n",
            "Requirement already satisfied: pyasn1 in /usr/local/lib/python3.10/dist-packages (from service-identity>=18.1.0->twisted[tls]>=22.4->daphne>=4.0.0->channels[daphne]>=4.0.0->mercury) (0.6.0)\n",
            "Requirement already satisfied: pyasn1-modules in /usr/local/lib/python3.10/dist-packages (from service-identity>=18.1.0->twisted[tls]>=22.4->daphne>=4.0.0->channels[daphne]>=4.0.0->mercury) (0.4.0)\n",
            "Building wheels for collected packages: mercury, django-allauth, dj-rest-auth, autobahn\n",
            "  Building wheel for mercury (pyproject.toml) ... \u001b[?25l\u001b[?25hdone\n",
            "  Created wheel for mercury: filename=mercury-2.3.10-py3-none-any.whl size=2679203 sha256=31094442bc8dace78367b38e2a5e78aa2400a31b91f237eef238fe0c6d13a674\n",
            "  Stored in directory: /root/.cache/pip/wheels/ba/be/46/a7de098111197e9120ca76ef999d0c5466c061919f05d66d30\n",
            "  Building wheel for django-allauth (setup.py) ... \u001b[?25l\u001b[?25hdone\n",
            "  Created wheel for django-allauth: filename=django_allauth-0.52.0-py3-none-any.whl size=1063908 sha256=ba99eb28bf8c61a71d57ca84b7c600bcba348731beb6c5b4c4e34c8664378f3c\n",
            "  Stored in directory: /root/.cache/pip/wheels/bc/71/64/b023cbec7198e182c9b01199b4bc958df13d4bcef14a684126\n",
            "  Building wheel for dj-rest-auth (setup.py) ... \u001b[?25l\u001b[?25hdone\n",
            "  Created wheel for dj-rest-auth: filename=dj_rest_auth-3.0.0-py2.py3-none-any.whl size=155048 sha256=11b6680f01c369ed42693f099311f14bec2334a2589c83aa4e6b63a17fec698e\n",
            "  Stored in directory: /root/.cache/pip/wheels/f3/61/ee/f3f4df9a52508d7cfde6d16ab12614d3a72151cd19fc8174e7\n",
            "  Building wheel for autobahn (setup.py) ... \u001b[?25l\u001b[?25hdone\n",
            "  Created wheel for autobahn: filename=autobahn-23.6.2-cp310-cp310-linux_x86_64.whl size=709076 sha256=86698573838c443dfd44a0c419539990328d252b6ef9ee98330a2f9be527df61\n",
            "  Stored in directory: /root/.cache/pip/wheels/91/de/ea/aa1c040ea3fa2c92276d081c13a415aca31786456f15abcc86\n",
            "Successfully built mercury django-allauth dj-rest-auth autobahn\n",
            "Installing collected packages: pyee, incremental, zope.interface, zope.event, widgetsnbextension, whitenoise, websockets, vine, urllib3, txaio, sqlalchemy, shortuuid, pyzmq, python3-openid, python-dotenv, mistune, markdown, jmespath, jedi, hyperlink, constantly, comm, click-didyoumean, billiard, automat, asgiref, twisted, pyppeteer, gevent, django, croniter, click-repl, botocore, amqp, service-identity, s3transfer, kombu, itables, ipykernel, execnb, djangorestframework, django-storages, django-filter, django-cors-headers, channels, autobahn, ipywidgets, django-drf-filepond, django-allauth, dj-rest-auth, celery, boto3, daphne, nbconvert, mercury\n",
            "  Attempting uninstall: widgetsnbextension\n",
            "    Found existing installation: widgetsnbextension 3.6.6\n",
            "    Uninstalling widgetsnbextension-3.6.6:\n",
            "      Successfully uninstalled widgetsnbextension-3.6.6\n",
            "  Attempting uninstall: urllib3\n",
            "    Found existing installation: urllib3 2.0.7\n",
            "    Uninstalling urllib3-2.0.7:\n",
            "      Successfully uninstalled urllib3-2.0.7\n",
            "  Attempting uninstall: sqlalchemy\n",
            "    Found existing installation: SQLAlchemy 2.0.29\n",
            "    Uninstalling SQLAlchemy-2.0.29:\n",
            "      Successfully uninstalled SQLAlchemy-2.0.29\n",
            "  Attempting uninstall: pyzmq\n",
            "    Found existing installation: pyzmq 23.2.1\n",
            "    Uninstalling pyzmq-23.2.1:\n",
            "      Successfully uninstalled pyzmq-23.2.1\n",
            "  Attempting uninstall: mistune\n",
            "    Found existing installation: mistune 0.8.4\n",
            "    Uninstalling mistune-0.8.4:\n",
            "      Successfully uninstalled mistune-0.8.4\n",
            "  Attempting uninstall: markdown\n",
            "    Found existing installation: Markdown 3.6\n",
            "    Uninstalling Markdown-3.6:\n",
            "      Successfully uninstalled Markdown-3.6\n",
            "  Attempting uninstall: ipykernel\n",
            "    Found existing installation: ipykernel 5.5.6\n",
            "    Uninstalling ipykernel-5.5.6:\n",
            "      Successfully uninstalled ipykernel-5.5.6\n",
            "  Attempting uninstall: ipywidgets\n",
            "    Found existing installation: ipywidgets 7.7.1\n",
            "    Uninstalling ipywidgets-7.7.1:\n",
            "      Successfully uninstalled ipywidgets-7.7.1\n",
            "  Attempting uninstall: nbconvert\n",
            "    Found existing installation: nbconvert 6.5.4\n",
            "    Uninstalling nbconvert-6.5.4:\n",
            "      Successfully uninstalled nbconvert-6.5.4\n",
            "\u001b[31mERROR: pip's dependency resolver does not currently take into account all the packages that are installed. This behaviour is the source of the following dependency conflicts.\n",
            "google-colab 1.0.0 requires ipykernel==5.5.6, but you have ipykernel 6.29.4 which is incompatible.\n",
            "ipython-sql 0.5.0 requires sqlalchemy>=2.0, but you have sqlalchemy 1.4.27 which is incompatible.\n",
            "notebook 6.5.5 requires pyzmq<25,>=17, but you have pyzmq 25.1.2 which is incompatible.\u001b[0m\u001b[31m\n",
            "\u001b[0mSuccessfully installed amqp-5.2.0 asgiref-3.8.1 autobahn-23.6.2 automat-22.10.0 billiard-4.2.0 boto3-1.26.83 botocore-1.29.165 celery-5.3.6 channels-4.1.0 click-didyoumean-0.3.1 click-repl-0.3.0 comm-0.2.2 constantly-23.10.4 croniter-2.0.3 daphne-4.1.0 dj-rest-auth-3.0.0 django-4.2.3 django-allauth-0.52.0 django-cors-headers-3.10.1 django-drf-filepond-0.4.1 django-filter-21.1 django-storages-1.14.2 djangorestframework-3.14.0 execnb-0.1.5 gevent-24.2.1 hyperlink-21.0.0 incremental-22.10.0 ipykernel-6.29.4 ipywidgets-8.0.3 itables-2.0.0 jedi-0.19.1 jmespath-1.0.1 kombu-5.3.6 markdown-3.3.6 mercury-2.3.10 mistune-3.0.2 nbconvert-7.16.3 pyee-8.2.2 pyppeteer-1.0.2 python-dotenv-1.0.1 python3-openid-3.2.0 pyzmq-25.1.2 s3transfer-0.6.2 service-identity-24.1.0 shortuuid-1.0.13 sqlalchemy-1.4.27 twisted-24.3.0 txaio-23.1.1 urllib3-1.26.18 vine-5.1.0 websockets-10.4 whitenoise-6.6.0 widgetsnbextension-4.0.10 zope.event-5.0 zope.interface-6.2\n"
          ]
        },
        {
          "output_type": "display_data",
          "data": {
            "application/vnd.colab-display-data+json": {
              "pip_warning": {
                "packages": [
                  "zmq"
                ]
              },
              "id": "e1674c406e444a6684dfd565bb52534f"
            }
          },
          "metadata": {}
        }
      ]
    },
    {
      "cell_type": "code",
      "source": [
        "import mercury as mr\n",
        "import ephem\n",
        "import datetime\n",
        "import matplotlib.pyplot as plt\n",
        "import matplotlib.dates as mdates\n",
        "from pytz import timezone\n",
        "from matplotlib import ticker\n",
        "\n",
        "app = mr.App(\n",
        "    title='アプリ名',\n",
        "    description='アプリの概要説明',\n",
        "    continuous_update=True,\n",
        "    show_code=False,\n",
        ")\n",
        "\n",
        "mr.Note('**Markdownの記法は普通に使えます。例えば、こう書けば太字になります**')\n",
        "mr.Md('**Markdownの記法は普通に使えます。例えば、こう書けば太字になります**')\n",
        "\n",
        "sf_ymd = '%Y-%m-%d'\n",
        "sf_HMS = '%H:%M:%S'\n",
        "\n",
        "tz = timezone('Asia/Tokyo')\n",
        "now = datetime.datetime.utcnow()\n",
        "today_str = now.astimezone(tz).strftime(sf_ymd)\n",
        "\n",
        "# 入力欄\n",
        "select_year = mr.Select(value = str(now.astimezone(tz).year), choices = [str(now.astimezone(tz).year - 1), str(now.astimezone(tz).year), str(now.astimezone(tz).year + 1)], label = \"西暦\")\n",
        "start_year = int(select_year.value)\n",
        "number_lat = mr.Numeric(value=35.4500, min=0, max=180, step=0.1, label=\"緯度\")\n",
        "number_lon = mr.Numeric(value=139.6500, min=0, max=180, step=0.1, label=\"経度\")\n",
        "\n",
        "# 入力された値を取得\n",
        "point = ephem.Observer()\n",
        "point.lat = str(number_lat.value)\n",
        "point.lon = str(number_lon.value)\n",
        "\n",
        "x_dates = []\n",
        "y_sr_times = []\n",
        "y_ss_times = []\n",
        "y_day_times = []\n",
        "\n",
        "date = datetime.datetime(year=start_year, month=1, day=1)\n",
        "\n",
        "for i in range(366):\n",
        "    point.date = date\n",
        "    sun = ephem.Sun()\n",
        "    dt0jst = datetime.datetime(year=date.year, month=date.month, day=date.day, tzinfo=datetime.timezone(datetime.timedelta(hours=+9)))\n",
        "    dt1jst = ephem.localtime(point.previous_rising(sun)).astimezone(tz)\n",
        "    dt2jst = ephem.localtime(point.next_setting(sun)).astimezone(tz)\n",
        "    day = dt2jst - dt1jst\n",
        "\n",
        "    x_dates.append(dt0jst)\n",
        "    y_sr_times.append((dt1jst - dt0jst).total_seconds() / 60 / 60)\n",
        "    y_ss_times.append((dt2jst - dt0jst).total_seconds() / 60 / 60)\n",
        "    y_day_times.append(day.total_seconds() / 60 / 60)\n",
        "\n",
        "    dt0str = dt0jst.strftime(sf_ymd)\n",
        "    dt1str = dt1jst.strftime(sf_HMS)\n",
        "    dt2str = dt2jst.strftime(sf_HMS)\n",
        "    # for DEBUG\n",
        "    #print(f'(日付, 日の出, 日の入, 日中長[時間]) = ({dt0str}, {dt1str}, {dt2str}, {day})')\n",
        "    if dt0str == today_str:\n",
        "       print(f'(日付, 日の出, 日の入, 日中長[時間]) = ({dt0str}, {dt1str}, {dt2str}, {day})\\n')\n",
        "\n",
        "    date += datetime.timedelta(days=1)\n",
        "\n",
        "# 日の出：Min/Max\n",
        "idx = y_sr_times.index(min(y_sr_times))\n",
        "print(f'日の出【最早】： (日付, 日の出, 日の入, 日中長[時間]) = ({x_dates[idx].strftime(sf_ymd)}, {y_sr_times[idx]}, {y_ss_times[idx]}, {y_day_times[idx]})')\n",
        "idx = y_sr_times.index(max(y_sr_times))\n",
        "print(f'日の出【最遅】： (日付, 日の出, 日の入, 日中長[時間]) = ({x_dates[idx].strftime(sf_ymd)}, {y_sr_times[idx]}, {y_ss_times[idx]}, {y_day_times[idx]})')\n",
        "print('')\n",
        "\n",
        "# 日の入：Min/Max\n",
        "idx = y_ss_times.index(min(y_ss_times))\n",
        "print(f'日の入【最早】： (日付, 日の出, 日の入, 日中長[時間]) = ({x_dates[idx].strftime(sf_ymd)}, {y_sr_times[idx]}, {y_ss_times[idx]}, {y_day_times[idx]})')\n",
        "idx = y_ss_times.index(max(y_ss_times))\n",
        "print(f'日の入【最遅】： (日付, 日の出, 日の入, 日中長[時間]) = ({x_dates[idx].strftime(sf_ymd)}, {y_sr_times[idx]}, {y_ss_times[idx]}, {y_day_times[idx]})')\n",
        "print('')\n",
        "\n",
        "# 日中の長さ：Min/Max\n",
        "idx = y_day_times.index(min(y_day_times))\n",
        "print(f'日中長【冬至】： (日付, 日の出, 日の入, 日中長[時間]) = ({x_dates[idx].strftime(sf_ymd)}, {y_sr_times[idx]}, {y_ss_times[idx]}, {y_day_times[idx]})')\n",
        "idx = y_day_times.index(max(y_day_times))\n",
        "print(f'日中長【夏至】： (日付, 日の出, 日の入, 日中長[時間]) = ({x_dates[idx].strftime(sf_ymd)}, {y_sr_times[idx]}, {y_ss_times[idx]}, {y_day_times[idx]})')\n",
        "print('')\n",
        "\n",
        "# グラフ描画（日の出、日の入の時刻）\n",
        "plt.figure(figsize=[12, 6])\n",
        "plt.plot_date(x_dates, y_sr_times, markersize=1, color='darkorange')\n",
        "plt.plot_date(x_dates, y_ss_times, markersize=1, color='darkblue')\n",
        "plt.axvline(now.astimezone(tz), color='r', linestyle='solid', linewidth=2)\n",
        "plt.title(\"Sunrise and Sunset Time\")\n",
        "plt.xlabel(\"Date\")\n",
        "plt.ylabel(\"Day Time\")\n",
        "plt.legend(['Sunrise Time', 'Sunset Time', 'Today'])\n",
        "plt.gca().xaxis.set_major_locator(mdates.MonthLocator(interval=1))\n",
        "plt.gca().yaxis.set_major_locator(ticker.MultipleLocator(2))\n",
        "plt.gcf().autofmt_xdate()\n",
        "plt.grid(axis=\"x\")\n",
        "plt.minorticks_on()\n",
        "plt.grid(which = \"both\", axis=\"y\")\n",
        "plt.show()\n",
        "\n",
        "# グラフ描画（日中の長さ）\n",
        "plt.figure(figsize=[12, 6])\n",
        "plt.plot_date(x_dates, y_day_times, markersize=1, color='darkorange')\n",
        "plt.axvline(now.astimezone(tz), color='r', linestyle='solid', linewidth=2)\n",
        "plt.title(\"Day Time Length\")\n",
        "plt.xlabel(\"Date\")\n",
        "plt.ylabel(\"Day Time Length[hour]\")\n",
        "plt.legend(['Day Time Length', 'Today'])\n",
        "plt.gca().xaxis.set_major_locator(mdates.MonthLocator(interval=1))\n",
        "plt.gca().yaxis.set_major_locator(ticker.MultipleLocator(1))\n",
        "plt.gcf().autofmt_xdate()\n",
        "plt.grid(axis=\"x\")\n",
        "plt.minorticks_on()\n",
        "plt.grid(which = \"both\", axis=\"y\")\n",
        "plt.show()\n"
      ],
      "metadata": {
        "colab": {
          "base_uri": "https://localhost:8080/",
          "height": 1000,
          "referenced_widgets": [
            "811ab259238b4a6792a5477bda8216a9",
            "9ff596da1a734f848445c113d9b05302",
            "892bb58545e6405ba0cfb96128d4bb19",
            "3c25afce45084e5197ccfaa0186bdb56",
            "fc5f58650019477a8fc9eed86d03544e",
            "9944bedb55fd46779f3c5fca71631a15",
            "8811c363799e486995049e220e7400d1",
            "f0cde6670a744d25be3d2080c167a717",
            "27da668d2ae54511b0d5804d55be19df"
          ]
        },
        "id": "Vt-PdsCGLuZd",
        "outputId": "8df80c86-1fe0-482c-d4d9-89be6a09450e"
      },
      "execution_count": null,
      "outputs": [
        {
          "output_type": "display_data",
          "data": {
            "text/plain": [
              "mercury.App"
            ],
            "text/html": [
              "<h3>Mercury Application</h3><small>This output won't appear in the web app.</small>"
            ],
            "application/mercury+json": "{\n    \"widget\": \"App\",\n    \"title\": \"\\u30a2\\u30d7\\u30ea\\u540d\",\n    \"description\": \"\\u30a2\\u30d7\\u30ea\\u306e\\u6982\\u8981\\u8aac\\u660e\",\n    \"show_code\": false,\n    \"show_prompt\": false,\n    \"output\": \"app\",\n    \"schedule\": \"\",\n    \"notify\": \"{}\",\n    \"continuous_update\": true,\n    \"static_notebook\": false,\n    \"show_sidebar\": true,\n    \"full_screen\": true,\n    \"allow_download\": true,\n    \"stop_on_error\": false,\n    \"model_id\": \"mercury-app\",\n    \"code_uid\": \"App.0.40.105.9-randeda23574\"\n}"
          },
          "metadata": {}
        },
        {
          "output_type": "display_data",
          "data": {
            "application/mercury+json": "{\n    \"widget\": \"Note\",\n    \"value\": \"**Markdown\\u306e\\u8a18\\u6cd5\\u306f\\u666e\\u901a\\u306b\\u4f7f\\u3048\\u307e\\u3059\\u3002\\u4f8b\\u3048\\u3070\\u3001\\u3053\\u3046\\u66f8\\u3051\\u3070\\u592a\\u5b57\\u306b\\u306a\\u308a\\u307e\\u3059**\",\n    \"model_id\": \"Note.0.40.45.16-randb5ef0c99\",\n    \"code_uid\": \"Note.0.40.45.16-randb5ef0c99\"\n}",
            "text/markdown": "**Markdownの記法は普通に使えます。例えば、こう書けば太字になります**",
            "text/plain": [
              "mercury.Note"
            ]
          },
          "metadata": {}
        },
        {
          "output_type": "display_data",
          "data": {
            "text/plain": [
              "<IPython.core.display.Markdown object>"
            ],
            "text/markdown": "**Markdownの記法は普通に使えます。例えば、こう書けば太字になります**"
          },
          "metadata": {}
        },
        {
          "output_type": "display_data",
          "data": {
            "application/vnd.jupyter.widget-view+json": {
              "version_major": 2,
              "version_minor": 0,
              "model_id": "811ab259238b4a6792a5477bda8216a9"
            },
            "application/mercury+json": "{\n    \"widget\": \"Select\",\n    \"value\": \"2024\",\n    \"choices\": [\n        \"2023\",\n        \"2024\",\n        \"2025\"\n    ],\n    \"label\": \"\\u897f\\u66a6\",\n    \"model_id\": \"811ab259238b4a6792a5477bda8216a9\",\n    \"code_uid\": \"Select.0.40.104.27-rand554d7bb5\",\n    \"url_key\": \"\",\n    \"disabled\": false,\n    \"hidden\": false\n}",
            "text/plain": [
              "mercury.Select"
            ]
          },
          "metadata": {}
        },
        {
          "output_type": "display_data",
          "data": {
            "application/vnd.jupyter.widget-view+json": {
              "version_major": 2,
              "version_minor": 0,
              "model_id": "3c25afce45084e5197ccfaa0186bdb56"
            },
            "application/mercury+json": "{\n    \"widget\": \"Numeric\",\n    \"value\": 35.45,\n    \"min\": 0.0,\n    \"max\": 180.0,\n    \"step\": 0.1,\n    \"label\": \"\\u7def\\u5ea6\",\n    \"model_id\": \"3c25afce45084e5197ccfaa0186bdb56\",\n    \"code_uid\": \"Numeric.0.40.101.29-rand26bb8ab9\",\n    \"url_key\": \"\",\n    \"disabled\": false,\n    \"hidden\": false\n}",
            "text/plain": [
              "mercury.Numeric"
            ]
          },
          "metadata": {}
        },
        {
          "output_type": "display_data",
          "data": {
            "application/vnd.jupyter.widget-view+json": {
              "version_major": 2,
              "version_minor": 0,
              "model_id": "8811c363799e486995049e220e7400d1"
            },
            "application/mercury+json": "{\n    \"widget\": \"Numeric\",\n    \"value\": 139.65,\n    \"min\": 0.0,\n    \"max\": 180.0,\n    \"step\": 0.1,\n    \"label\": \"\\u7d4c\\u5ea6\",\n    \"model_id\": \"8811c363799e486995049e220e7400d1\",\n    \"code_uid\": \"Numeric.0.40.101.30-randfb08b270\",\n    \"url_key\": \"\",\n    \"disabled\": false,\n    \"hidden\": false\n}",
            "text/plain": [
              "mercury.Numeric"
            ]
          },
          "metadata": {}
        },
        {
          "output_type": "stream",
          "name": "stdout",
          "text": [
            "(日付, 日の出, 日の入, 日中長[時間]) = (2024-04-07, 05:19:27, 18:08:05, 12:48:37.169277)\n",
            "\n",
            "日の出【最早】： (日付, 日の出, 日の入, 日中長[時間]) = (2024-06-13, 4.422937134444444, 18.962846245277778, 14.539909110833333)\n",
            "日の出【最遅】： (日付, 日の出, 日の入, 日中長[時間]) = (2024-01-08, 6.8461861794444445, 16.747240094722223, 9.901053915277776)\n",
            "\n",
            "日の入【最早】： (日付, 日の出, 日の入, 日中長[時間]) = (2024-12-05, 6.587266166666667, 16.47752939777778, 9.890263231111112)\n",
            "日の入【最遅】： (日付, 日の出, 日の入, 日中長[時間]) = (2024-06-29, 4.479306798888889, 19.015874062222224, 14.536567263333332)\n",
            "\n",
            "日中長【冬至】： (日付, 日の出, 日の入, 日中長[時間]) = (2024-12-21, 6.771982281111111, 16.54457454888889, 9.772592267777778)\n",
            "日中長【夏至】： (日付, 日の出, 日の入, 日中長[時間]) = (2024-06-21, 4.438199931111112, 19.00300006638889, 14.564800135277778)\n",
            "\n"
          ]
        },
        {
          "output_type": "display_data",
          "data": {
            "text/plain": [
              "<Figure size 1200x600 with 1 Axes>"
            ],
            "image/png": "[encoded data removed]"
          },
          "metadata": {}
        },
        {
          "output_type": "display_data",
          "data": {
            "text/plain": [
              "<Figure size 1200x600 with 1 Axes>"
            ],
            "image/png": "[encoded data removed]"
          },
          "metadata": {}
        }
      ]
    },
    {
      "cell_type": "markdown",
      "source": [
        "# Sunset and sunrise times API"
      ],
      "metadata": {
        "id": "1L1VeX7xRdRd"
      }
    },
    {
      "cell_type": "code",
      "source": [
        "# -*- coding:utf-8 -*-\n",
        "#各種libraryのインポート\n",
        "import requests\n",
        "import json\n",
        "import datetime\n",
        "from datetime import datetime, timezone, timedelta\n",
        "\n",
        "# APIエンドポイント\n",
        "sunset_url = \"https://api.sunrise-sunset.org/json?lat={lat}&lng={lon}&date={date}&formatted=0\"\n",
        "#各種パラメータをセット\n",
        "sunset_url = sunset_url.format(lat=\"35.4500\", lon=\"139.6500\", date=\"today\") # 横浜（神奈川）@国立天文台\n",
        "sunset_json = requests.get(sunset_url).json()\n",
        "\n",
        "# ISO8601フォーマット => Datetime_awere(timezoneあり)\n",
        "utc_sunrise = datetime.fromisoformat(sunset_json[\"results\"][\"sunrise\"])\n",
        "utc_sunset = datetime.fromisoformat(sunset_json[\"results\"][\"sunset\"])\n",
        "\n",
        "# timezone変更（UTC => JST）、表示フォーマットの変更\n",
        "# 時刻フォーマット例；'%Y年%-m月%-d日 %-H時%-M分%-S秒'\n",
        "JST = timezone(timedelta(hours=+9), \"JST\")\n",
        "sunrise = utc_sunrise.astimezone(JST).strftime('%m/%d %H:%M:%S')\n",
        "sunset = utc_sunset.astimezone(JST).strftime('%m/%d %H:%M:%S')\n",
        "\n",
        "print('なう！:', datetime.now(JST).strftime('%Y-%m-%d %H:%M:%S'))\n",
        "print(\"日の出 : \" + sunrise)\n",
        "print(\"日の入： \" + sunset)"
      ],
      "metadata": {
        "colab": {
          "base_uri": "https://localhost:8080/"
        },
        "id": "EcrUSZ8SSanR",
        "outputId": "6e3a9e73-1b40-4d7d-a4f4-57ac633296d0"
      },
      "execution_count": null,
      "outputs": [
        {
          "output_type": "stream",
          "name": "stdout",
          "text": [
            "なう！: 2024-04-06 16:45:31\n",
            "日の出 : 04/06 05:19:24\n",
            "日の入： 04/06 18:08:08\n"
          ]
        }
      ]
    },
    {
      "cell_type": "markdown",
      "source": [
        "国立天文台の情報\n",
        "\n",
        "https://eco.mtk.nao.ac.jp/koyomi/dni/2024/s1504.html\n",
        "\n",
        "によると本日（4/6）の日の出、日の入は次のとおり\n",
        "\n",
        "* 日の出 05:21\n",
        "* 日の入 18:07\n",
        "\n",
        "となっており【日の出】【日の入】の時間が共に1分強のズレが発生している。\n",
        "\n",
        "=> 精度【★☆☆】\n",
        "\n",
        "* 実行結果\n",
        "> なう！: 2024-04-06 16:45:31  \n",
        "> 日の出 : 04/06 05:19:24  \n",
        "> 日の入： 04/06 18:08:08  "
      ],
      "metadata": {
        "id": "istH5d01RjY3"
      }
    },
    {
      "cell_type": "markdown",
      "source": [
        "# Googleの生成AIによるコーディングサンプル"
      ],
      "metadata": {
        "id": "_aKgV6mGYj2B"
      }
    },
    {
      "cell_type": "code",
      "source": [
        "# prompt: 日本の横浜市の日の出の時刻を表示するプログラムを書いてください\n",
        "\n",
        "import requests\n",
        "import json\n",
        "from datetime import datetime, timezone, timedelta\n",
        "\n",
        "# APIエンドポイント\n",
        "sunset_url = \"https://api.sunrise-sunset.org/json?lat={lat}&lng={lon}&date={date}&formatted=0\"\n",
        "\n",
        "# 横浜市の緯度経度\n",
        "lat = \"35.4500\"\n",
        "lon = \"139.6500\"\n",
        "\n",
        "# 日付を今日に設定\n",
        "date = \"today\"\n",
        "\n",
        "# APIリクエストを送信\n",
        "sunset_json = requests.get(sunset_url.format(lat=lat, lon=lon, date=date)).json()\n",
        "\n",
        "# 日の出時刻を取得\n",
        "utc_sunrise = datetime.fromisoformat(sunset_json[\"results\"][\"sunrise\"])\n",
        "\n",
        "# タイムゾーンをJSTに変更\n",
        "JST = timezone(timedelta(hours=+9), \"JST\")\n",
        "sunrise = utc_sunrise.astimezone(JST)\n",
        "\n",
        "# 日の出時刻を表示\n",
        "print(\"日の出時刻:\", sunrise.strftime('%H:%M:%S'))\n"
      ],
      "metadata": {
        "colab": {
          "base_uri": "https://localhost:8080/"
        },
        "id": "pdZwYOm8VV-H",
        "outputId": "abb9f788-b056-4204-f515-8866867e9eb7"
      },
      "execution_count": null,
      "outputs": [
        {
          "output_type": "stream",
          "name": "stdout",
          "text": [
            "日の出時刻: 05:19:24\n"
          ]
        }
      ]
    },
    {
      "cell_type": "code",
      "source": [
        "# prompt: 日本の横浜市の日の出と日の入りの時刻を表示するプログラムを書いてください\n",
        "\n",
        "# APIエンドポイント\n",
        "sunset_url = \"https://api.sunrise-sunset.org/json?lat={lat}&lng={lon}&date={date}&formatted=0\"\n",
        "\n",
        "# 横浜市の緯度経度\n",
        "lat = \"35.4500\"\n",
        "lon = \"139.6500\"\n",
        "\n",
        "# 日付を今日に設定\n",
        "date = \"today\"\n",
        "\n",
        "# APIリクエストを送信\n",
        "sunset_json = requests.get(sunset_url.format(lat=lat, lon=lon, date=date)).json()\n",
        "\n",
        "# 日の出時刻を取得\n",
        "utc_sunrise = datetime.fromisoformat(sunset_json[\"results\"][\"sunrise\"])\n",
        "\n",
        "# 日の入時刻を取得\n",
        "utc_sunset = datetime.fromisoformat(sunset_json[\"results\"][\"sunset\"])\n",
        "\n",
        "# タイムゾーンをJSTに変更\n",
        "JST = timezone(timedelta(hours=+9), \"JST\")\n",
        "sunrise = utc_sunrise.astimezone(JST)\n",
        "sunset = utc_sunset.astimezone(JST)\n",
        "\n",
        "# 日の出時刻と日の入時刻を表示\n",
        "print(\"日の出時刻:\", sunrise.strftime('%H:%M:%S'))\n",
        "print(\"日の入時刻:\", sunset.strftime('%H:%M:%S'))\n"
      ],
      "metadata": {
        "colab": {
          "base_uri": "https://localhost:8080/"
        },
        "id": "SA__WEtJYq9a",
        "outputId": "25fa96e4-3cf4-4aff-d8e2-398cc4374268"
      },
      "execution_count": null,
      "outputs": [
        {
          "output_type": "stream",
          "name": "stdout",
          "text": [
            "日の出時刻: 05:19:24\n",
            "日の入時刻: 18:08:08\n"
          ]
        }
      ]
    },
    {
      "cell_type": "markdown",
      "source": [
        "## 参考\n",
        "\n",
        "* Google Colab/Drive に pip インストール: これなら消えない\n",
        "\n",
        "  https://ggcs.io/2020/06/22/google-colab-pip-install/\n",
        "\n",
        "* 【Python】APIから日出、日没、薄明の時間を取得してみた\n",
        "\n",
        "  https://qiita.com/Tatsuki_Yo/items/e831cfe8963c989da094\n",
        "\n",
        "* Sunrise-Sunset (独立系発行者) (プレビュー)\n",
        "\n",
        "  https://learn.microsoft.com/ja-jp/connectors/sunrisesunsetip/\n",
        "\n",
        "* 円軌道の場合の解\n",
        "\n",
        "  http://zakii.la.coocan.jp/physics/22_sunrise_circle.htm\n"
      ],
      "metadata": {
        "id": "24wWcSNQEoRs"
      }
    }
  ]
}